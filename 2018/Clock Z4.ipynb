{
 "cells": [
  {
   "cell_type": "code",
   "execution_count": 2,
   "metadata": {
    "collapsed": true
   },
   "outputs": [],
   "source": [
    "import numpy as np\n",
    "import matplotlib.pyplot as plt\n",
    "from simulation import *"
   ]
  },
  {
   "cell_type": "code",
   "execution_count": 3,
   "metadata": {
    "collapsed": true
   },
   "outputs": [],
   "source": [
    "spec_names=('gap', 'shifted_gap', 'log10_gap', 'log10_shifted_gap', 'ratio')"
   ]
  },
  {
   "cell_type": "code",
   "execution_count": 84,
   "metadata": {
    "collapsed": true
   },
   "outputs": [],
   "source": [
    "dim_loc=4\n",
    "L=3\n",
    "n_dis=100\n",
    "simdict={'dim_loc': dim_loc, 'L': L, 'n_dis': n_dis}\n",
    "phi=np.pi/3\n",
    "lambd=0.0\n",
    "time_set= np.power(2, np.arange(40))\n",
    "idata={'JZZ': 1.0, 'hZ': 1.0, 'hX': 1.0, 'alphas': np.array([np.exp(1j*phi)/2, 1, np.exp(-1j*phi)/2]),\\\n",
    "       'betas': np.array([0,lambd, 0]), 'lambdas': np.array([0,1,0]), 'phi': phi, 'lambd': lambd}\n",
    "filename='clock4/clock4_%d_%.2f.txt' %(L,lambd)"
   ]
  },
  {
   "cell_type": "code",
   "execution_count": 85,
   "metadata": {
    "collapsed": false
   },
   "outputs": [
    {
     "name": "stderr",
     "output_type": "stream",
     "text": [
      "/home/federica/Dropbox/Master/plot_tesi/2018/simulation.py:35: RuntimeWarning: divide by zero encountered in log10\n",
      "  log10_shifted_gaps = np.log10(shifted_gap(spectrum, dim_loc))\n"
     ]
    },
    {
     "name": "stdout",
     "output_type": "stream",
     "text": [
      "size 3 \tdisorder realization 0 \ttime elapsed 0.008614063262939453\n",
      "size 3 \tdisorder realization 1 \ttime elapsed 0.008286237716674805\n",
      "size 3 \tdisorder realization 2 \ttime elapsed 0.008208990097045898\n",
      "size 3 \tdisorder realization 3 \ttime elapsed 0.0083465576171875\n",
      "size 3 \tdisorder realization 4 \ttime elapsed 0.008196830749511719\n",
      "size 3 \tdisorder realization 5 \ttime elapsed 0.008173704147338867\n",
      "size 3 \tdisorder realization 6 \ttime elapsed 0.008106470108032227\n",
      "size 3 \tdisorder realization 7 \ttime elapsed 0.008131980895996094\n",
      "size 3 \tdisorder realization 8 \ttime elapsed 0.008121967315673828\n",
      "size 3 \tdisorder realization 9 \ttime elapsed 0.008091449737548828\n",
      "size 3 \tdisorder realization 10 \ttime elapsed 0.00808572769165039\n",
      "size 3 \tdisorder realization 11 \ttime elapsed 0.00809621810913086\n",
      "size 3 \tdisorder realization 12 \ttime elapsed 0.008077383041381836\n",
      "size 3 \tdisorder realization 13 \ttime elapsed 0.008126974105834961\n",
      "size 3 \tdisorder realization 14 \ttime elapsed 0.00823354721069336\n",
      "size 3 \tdisorder realization 15 \ttime elapsed 0.008109092712402344\n",
      "size 3 \tdisorder realization 16 \ttime elapsed 0.008130550384521484\n",
      "size 3 \tdisorder realization 17 \ttime elapsed 0.008089303970336914\n",
      "size 3 \tdisorder realization 18 \ttime elapsed 0.008125782012939453\n",
      "size 3 \tdisorder realization 19 \ttime elapsed 0.008100032806396484\n",
      "size 3 \tdisorder realization 20 \ttime elapsed 0.00807046890258789\n",
      "size 3 \tdisorder realization 21 \ttime elapsed 0.009078502655029297\n",
      "size 3 \tdisorder realization 22 \ttime elapsed 0.008373260498046875\n",
      "size 3 \tdisorder realization 23 \ttime elapsed 0.008172273635864258\n",
      "size 3 \tdisorder realization 24 \ttime elapsed 0.009260416030883789\n",
      "size 3 \tdisorder realization 25 \ttime elapsed 0.01434946060180664\n",
      "size 3 \tdisorder realization 26 \ttime elapsed 0.011944055557250977\n",
      "size 3 \tdisorder realization 27 \ttime elapsed 0.014134645462036133\n",
      "size 3 \tdisorder realization 28 \ttime elapsed 0.00936269760131836\n",
      "size 3 \tdisorder realization 29 \ttime elapsed 0.008310556411743164\n",
      "size 3 \tdisorder realization 30 \ttime elapsed 0.009015083312988281\n",
      "size 3 \tdisorder realization 31 \ttime elapsed 0.008601903915405273\n",
      "size 3 \tdisorder realization 32 \ttime elapsed 0.009912729263305664\n",
      "size 3 \tdisorder realization 33 \ttime elapsed 0.008603334426879883\n",
      "size 3 \tdisorder realization 34 \ttime elapsed 0.00840449333190918\n",
      "size 3 \tdisorder realization 35 \ttime elapsed 0.00854039192199707\n",
      "size 3 \tdisorder realization 36 \ttime elapsed 0.008954524993896484\n",
      "size 3 \tdisorder realization 37 \ttime elapsed 0.008308172225952148\n",
      "size 3 \tdisorder realization 38 \ttime elapsed 0.008521556854248047\n",
      "size 3 \tdisorder realization 39 \ttime elapsed 0.008404254913330078\n",
      "size 3 \tdisorder realization 40 \ttime elapsed 0.008561134338378906\n",
      "size 3 \tdisorder realization 41 \ttime elapsed 0.00818014144897461\n",
      "size 3 \tdisorder realization 42 \ttime elapsed 0.012701034545898438\n",
      "size 3 \tdisorder realization 43 \ttime elapsed 0.010647773742675781\n",
      "size 3 \tdisorder realization 44 \ttime elapsed 0.009744644165039062\n",
      "size 3 \tdisorder realization 45 \ttime elapsed 0.00882577896118164\n",
      "size 3 \tdisorder realization 46 \ttime elapsed 0.009618043899536133\n",
      "size 3 \tdisorder realization 47 \ttime elapsed 0.012772560119628906\n",
      "size 3 \tdisorder realization 48 \ttime elapsed 0.012354135513305664\n",
      "size 3 \tdisorder realization 49 \ttime elapsed 0.016327857971191406\n",
      "size 3 \tdisorder realization 50 \ttime elapsed 0.011083364486694336\n",
      "size 3 \tdisorder realization 51 \ttime elapsed 0.008346319198608398\n",
      "size 3 \tdisorder realization 52 \ttime elapsed 0.008010625839233398\n",
      "size 3 \tdisorder realization 53 \ttime elapsed 0.00821995735168457\n",
      "size 3 \tdisorder realization 54 \ttime elapsed 0.008219242095947266\n",
      "size 3 \tdisorder realization 55 \ttime elapsed 0.008126974105834961\n",
      "size 3 \tdisorder realization 56 \ttime elapsed 0.008281469345092773\n",
      "size 3 \tdisorder realization 57 \ttime elapsed 0.008204460144042969\n",
      "size 3 \tdisorder realization 58 \ttime elapsed 0.008141279220581055\n",
      "size 3 \tdisorder realization 59 \ttime elapsed 0.008095741271972656\n",
      "size 3 \tdisorder realization 60 \ttime elapsed 0.008102655410766602\n",
      "size 3 \tdisorder realization 61 \ttime elapsed 0.008190393447875977\n",
      "size 3 \tdisorder realization 62 \ttime elapsed 0.00808858871459961\n",
      "size 3 \tdisorder realization 63 \ttime elapsed 0.008106708526611328\n",
      "size 3 \tdisorder realization 64 \ttime elapsed 0.008082389831542969\n",
      "size 3 \tdisorder realization 65 \ttime elapsed 0.008101224899291992\n",
      "size 3 \tdisorder realization 66 \ttime elapsed 0.008050918579101562\n",
      "size 3 \tdisorder realization 67 \ttime elapsed 0.00809168815612793\n",
      "size 3 \tdisorder realization 68 \ttime elapsed 0.009107589721679688\n",
      "size 3 \tdisorder realization 69 \ttime elapsed 0.013510704040527344\n",
      "size 3 \tdisorder realization 70 \ttime elapsed 0.012698173522949219\n",
      "size 3 \tdisorder realization 71 \ttime elapsed 0.017974138259887695\n",
      "size 3 \tdisorder realization 72 \ttime elapsed 0.009881258010864258\n",
      "size 3 \tdisorder realization 73 \ttime elapsed 0.008665323257446289\n",
      "size 3 \tdisorder realization 74 \ttime elapsed 0.008188486099243164\n",
      "size 3 \tdisorder realization 75 \ttime elapsed 0.00820302963256836\n",
      "size 3 \tdisorder realization 76 \ttime elapsed 0.008105278015136719\n",
      "size 3 \tdisorder realization 77 \ttime elapsed 0.008120536804199219\n",
      "size 3 \tdisorder realization 78 \ttime elapsed 0.0081024169921875\n",
      "size 3 \tdisorder realization 79 \ttime elapsed 0.008233308792114258\n",
      "size 3 \tdisorder realization 80 \ttime elapsed 0.008126974105834961\n",
      "size 3 \tdisorder realization 81 \ttime elapsed 0.008154153823852539\n",
      "size 3 \tdisorder realization 82 \ttime elapsed 0.008110761642456055\n",
      "size 3 \tdisorder realization 83 \ttime elapsed 0.008188724517822266\n",
      "size 3 \tdisorder realization 84 \ttime elapsed 0.008087396621704102\n",
      "size 3 \tdisorder realization 85 \ttime elapsed 0.008061647415161133\n",
      "size 3 \tdisorder realization 86 \ttime elapsed 0.00808858871459961\n",
      "size 3 \tdisorder realization 87 \ttime elapsed 0.008217096328735352\n",
      "size 3 \tdisorder realization 88 \ttime elapsed 0.00891423225402832\n",
      "size 3 \tdisorder realization 89 \ttime elapsed 0.008608818054199219\n",
      "size 3 \tdisorder realization 90 \ttime elapsed 0.011260032653808594\n",
      "size 3 \tdisorder realization 91 \ttime elapsed 0.013445854187011719\n",
      "size 3 \tdisorder realization 92 \ttime elapsed 0.012768030166625977\n",
      "size 3 \tdisorder realization 93 \ttime elapsed 0.017728090286254883\n",
      "size 3 \tdisorder realization 94 \ttime elapsed 0.010350704193115234\n",
      "size 3 \tdisorder realization 95 \ttime elapsed 0.008422613143920898\n",
      "size 3 \tdisorder realization 96 \ttime elapsed 0.008244752883911133\n",
      "size 3 \tdisorder realization 97 \ttime elapsed 0.008228540420532227\n",
      "size 3 \tdisorder realization 98 \ttime elapsed 0.008087873458862305\n",
      "size 3 \tdisorder realization 99 \ttime elapsed 0.008131742477416992\n"
     ]
    },
    {
     "name": "stderr",
     "output_type": "stream",
     "text": [
      "/home/federica/anaconda3/lib/python3.5/site-packages/numpy/core/_methods.py:112: RuntimeWarning: invalid value encountered in subtract\n",
      "  x = asanyarray(arr - arrmean)\n"
     ]
    }
   ],
   "source": [
    "clockH, clockK, clockZ = clock(dim_loc, L)\n",
    "Z_mean, Z_var, spectral_data, spectral_data_var = simulation(dim_loc, L, n_dis, idata, clockH, clockK, clockZ, time_set)\n",
    "\n",
    "with open(filename, 'wb') as f:\n",
    "        for key, value in simdict.items():\n",
    "            f.write(('\\n# '+key+' '+str(value)).encode('utf-8'))\n",
    "        for key, value in idata.items():\n",
    "            f.write(('\\n# '+key+' '+str(value)).encode('utf-8'))\n",
    "        for i in range(5):\n",
    "            f.write(('\\n# '+spec_names[i]+' '+str(spectral_data[i])+' '+str(spectral_data_var[i])).encode('utf-8'))\n",
    "        f.write('\\n# time\\tRe(Z)\\Im(Z)\\tVar(Re(Z))\\tVar(Im(Z))\\n'.encode('utf-8'))\n",
    "        np.savetxt(f, np.stack((time_set, np.real(Z_mean), np.imag(Z_mean), np.real(Z_var), np.imag(Z_var)), axis=-1))"
   ]
  },
  {
   "cell_type": "code",
   "execution_count": 63,
   "metadata": {
    "collapsed": true
   },
   "outputs": [],
   "source": [
    "import re\n",
    "\n",
    "lenarr=len(time_set)\n",
    "\n",
    "dt = np.dtype([('JZZ', np.float64), ('hZ', np.float64), ('hX', np.float64), \n",
    "               ('FILENAME', np.unicode_, 32), ('phi', np.float64), ('dim_loc', np.int32),\n",
    "               ('n_dis', np.int32), ('L', np.int32), ('time_set', np.float64, (lenarr,)),\n",
    "               ('ReZ', np.float64, (lenarr,)), ('ImZ', np.float64, (lenarr,)), ('ReVarZ', np.float64, (lenarr,)),\n",
    "               ('ImVarZ', np.float64, (lenarr,))])\n",
    "\n",
    "def get_data(file):\n",
    "    d = np.zeros([], dtype=dt)\n",
    "    d['FILENAME']=file\n",
    "    with open(file) as f:\n",
    "        for line in f:\n",
    "            try:\n",
    "                m = re.match(\"# (\\S+) ([-+]?\\d+.\\d+e[+-]?\\d+)\", line)\n",
    "                d[m.group(1)]=float(m.group(2))\n",
    "            except:\n",
    "                try:\n",
    "                    m = re.match(\"# (\\S+) ([-+]?\\d+.\\d+)\", line)\n",
    "                    d[m.group(1)]=float(m.group(2))                  \n",
    "                except:\n",
    "                    try:\n",
    "                        m = re.match(\"# (\\S+) (\\d+)\", line)\n",
    "                        d[m.group(1)]=int(m.group(2))                       \n",
    "                    except: pass\n",
    "    d['time_set'], d['ReZ'], d['ImZ'], d['ReVarZ'], d['ImVarZ']=np.genfromtxt(file, unpack=True, dtype=np.complex128)\n",
    "    return d"
   ]
  },
  {
   "cell_type": "code",
   "execution_count": 86,
   "metadata": {
    "collapsed": false
   },
   "outputs": [
    {
     "name": "stderr",
     "output_type": "stream",
     "text": [
      "/home/federica/anaconda3/lib/python3.5/site-packages/ipykernel/__main__.py:28: ComplexWarning: Casting complex values to real discards the imaginary part\n"
     ]
    }
   ],
   "source": [
    "dataset=np.empty(0, dtype=dt)\n",
    "for L in range(2,4):\n",
    "    d=get_data('clock4/clock4_%d_0.00.txt' %L)\n",
    "    dataset=np.append(dataset, d)"
   ]
  },
  {
   "cell_type": "code",
   "execution_count": 87,
   "metadata": {
    "collapsed": false
   },
   "outputs": [
    {
     "data": {
      "image/png": "[encoded data removed]",
      "text/plain": [
       "<matplotlib.figure.Figure at 0x7fc60c10a2b0>"
      ]
     },
     "metadata": {},
     "output_type": "display_data"
    }
   ],
   "source": [
    "f, ax = plt.subplots(1,1,figsize=(10,6))\n",
    "\n",
    "for sim in dataset:\n",
    "    ax.plot(np.log10(sim['time_set']), sim['ReZ'],label= r'$L=$%d' % L)\n",
    "\n",
    "plt.show()"
   ]
  },
  {
   "cell_type": "code",
   "execution_count": null,
   "metadata": {
    "collapsed": true
   },
   "outputs": [],
   "source": []
  }
 ],
 "metadata": {
  "kernelspec": {
   "display_name": "Python [conda root]",
   "language": "python",
   "name": "conda-root-py"
  },
  "language_info": {
   "codemirror_mode": {
    "name": "ipython",
    "version": 3
   },
   "file_extension": ".py",
   "mimetype": "text/x-python",
   "name": "python",
   "nbconvert_exporter": "python",
   "pygments_lexer": "ipython3",
   "version": "3.5.2"
  }
 },
 "nbformat": 4,
 "nbformat_minor": 1
}
