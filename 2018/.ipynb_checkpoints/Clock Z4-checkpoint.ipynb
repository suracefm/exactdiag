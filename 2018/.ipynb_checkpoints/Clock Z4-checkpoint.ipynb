{
 "cells": [
  {
   "cell_type": "code",
   "execution_count": 2,
   "metadata": {
    "collapsed": true
   },
   "outputs": [],
   "source": [
    "import numpy as np\n",
    "import matplotlib.pyplot as plt\n",
    "from simulation import *"
   ]
  },
  {
   "cell_type": "code",
   "execution_count": 3,
   "metadata": {
    "collapsed": true
   },
   "outputs": [],
   "source": [
    "spec_names=('gap', 'shifted_gap', 'log10_gap', 'log10_shifted_gap', 'ratio')"
   ]
  },
  {
   "cell_type": "code",
   "execution_count": 14,
   "metadata": {
    "collapsed": true
   },
   "outputs": [],
   "source": [
    "dim_loc=4\n",
    "L=4\n",
    "n_dis=100\n",
    "simdict={'dim_loc': dim_loc, 'L': L, 'n_dis': n_dis}\n",
    "phi=np.pi/3\n",
    "lambd=0\n",
    "time_set= np.power(2, np.arange(40))\n",
    "idata={'JZZ': 1.0, 'hZ': 0.3, 'hX': 0.1, 'alphas': np.array([np.exp(1j*phi)/2, 1, np.exp(-1j*phi)/2]),\\\n",
    "       'betas': np.array([0,lambd, 0]), 'lambdas': np.array([0,1,0]), 'phi': phi, 'lambd': lambd}\n",
    "filename='clock4_%d_%.2f.txt' %(L,lambd)"
   ]
  },
  {
   "cell_type": "code",
   "execution_count": 15,
   "metadata": {
    "collapsed": false
   },
   "outputs": [
    {
     "name": "stderr",
     "output_type": "stream",
     "text": [
      "/home/federica/Dropbox/Master/plot_tesi/2018/simulation.py:35: RuntimeWarning: divide by zero encountered in log10\n",
      "  log10_shifted_gaps = np.log10(shifted_gap(spectrum, dim_loc))\n"
     ]
    },
    {
     "name": "stdout",
     "output_type": "stream",
     "text": [
      "size 4 \tdisorder realization 0 \ttime elapsed 0.1542038917541504\n",
      "size 4 \tdisorder realization 1 \ttime elapsed 0.14804649353027344\n",
      "size 4 \tdisorder realization 2 \ttime elapsed 0.15540194511413574\n",
      "size 4 \tdisorder realization 3 \ttime elapsed 0.1467900276184082\n",
      "size 4 \tdisorder realization 4 \ttime elapsed 0.12471580505371094\n",
      "size 4 \tdisorder realization 5 \ttime elapsed 0.1018228530883789\n",
      "size 4 \tdisorder realization 6 \ttime elapsed 0.09520912170410156\n",
      "size 4 \tdisorder realization 7 \ttime elapsed 0.10819816589355469\n",
      "size 4 \tdisorder realization 8 \ttime elapsed 0.0942087173461914\n",
      "size 4 \tdisorder realization 9 \ttime elapsed 0.09494423866271973\n",
      "size 4 \tdisorder realization 10 \ttime elapsed 0.10892915725708008\n",
      "size 4 \tdisorder realization 11 \ttime elapsed 0.10207319259643555\n",
      "size 4 \tdisorder realization 12 \ttime elapsed 0.09427905082702637\n",
      "size 4 \tdisorder realization 13 \ttime elapsed 0.10827755928039551\n",
      "size 4 \tdisorder realization 14 \ttime elapsed 0.10111832618713379\n",
      "size 4 \tdisorder realization 15 \ttime elapsed 0.09470748901367188\n",
      "size 4 \tdisorder realization 16 \ttime elapsed 0.10677075386047363\n",
      "size 4 \tdisorder realization 17 \ttime elapsed 0.09435415267944336\n",
      "size 4 \tdisorder realization 18 \ttime elapsed 0.10501980781555176\n",
      "size 4 \tdisorder realization 19 \ttime elapsed 0.11918401718139648\n",
      "size 4 \tdisorder realization 20 \ttime elapsed 0.1028900146484375\n",
      "size 4 \tdisorder realization 21 \ttime elapsed 0.12488055229187012\n",
      "size 4 \tdisorder realization 22 \ttime elapsed 0.11797451972961426\n",
      "size 4 \tdisorder realization 23 \ttime elapsed 0.12282514572143555\n",
      "size 4 \tdisorder realization 24 \ttime elapsed 0.10547566413879395\n",
      "size 4 \tdisorder realization 25 \ttime elapsed 0.14460349082946777\n",
      "size 4 \tdisorder realization 26 \ttime elapsed 0.12341070175170898\n",
      "size 4 \tdisorder realization 27 \ttime elapsed 0.11214256286621094\n",
      "size 4 \tdisorder realization 28 \ttime elapsed 0.11270856857299805\n",
      "size 4 \tdisorder realization 29 \ttime elapsed 0.11050295829772949\n",
      "size 4 \tdisorder realization 30 \ttime elapsed 0.10948824882507324\n",
      "size 4 \tdisorder realization 31 \ttime elapsed 0.10152482986450195\n",
      "size 4 \tdisorder realization 32 \ttime elapsed 0.0943753719329834\n",
      "size 4 \tdisorder realization 33 \ttime elapsed 0.09537649154663086\n",
      "size 4 \tdisorder realization 34 \ttime elapsed 0.099456787109375\n",
      "size 4 \tdisorder realization 35 \ttime elapsed 0.17545843124389648\n",
      "size 4 \tdisorder realization 36 \ttime elapsed 0.21533942222595215\n",
      "size 4 \tdisorder realization 37 \ttime elapsed 0.21281003952026367\n",
      "size 4 \tdisorder realization 38 \ttime elapsed 0.1859891414642334\n",
      "size 4 \tdisorder realization 39 \ttime elapsed 0.18047022819519043\n",
      "size 4 \tdisorder realization 40 \ttime elapsed 0.14554667472839355\n",
      "size 4 \tdisorder realization 41 \ttime elapsed 0.1049032211303711\n",
      "size 4 \tdisorder realization 42 \ttime elapsed 0.10565185546875\n",
      "size 4 \tdisorder realization 43 \ttime elapsed 0.10899496078491211\n",
      "size 4 \tdisorder realization 44 \ttime elapsed 0.17302489280700684\n",
      "size 4 \tdisorder realization 45 \ttime elapsed 0.19415879249572754\n",
      "size 4 \tdisorder realization 46 \ttime elapsed 0.18361878395080566\n",
      "size 4 \tdisorder realization 47 \ttime elapsed 0.11861968040466309\n",
      "size 4 \tdisorder realization 48 \ttime elapsed 0.13095569610595703\n",
      "size 4 \tdisorder realization 49 \ttime elapsed 0.12398314476013184\n",
      "size 4 \tdisorder realization 50 \ttime elapsed 0.10348010063171387\n",
      "size 4 \tdisorder realization 51 \ttime elapsed 0.0990145206451416\n",
      "size 4 \tdisorder realization 52 \ttime elapsed 0.10639548301696777\n",
      "size 4 \tdisorder realization 53 \ttime elapsed 0.09948897361755371\n",
      "size 4 \tdisorder realization 54 \ttime elapsed 0.10997176170349121\n",
      "size 4 \tdisorder realization 55 \ttime elapsed 0.11460232734680176\n",
      "size 4 \tdisorder realization 56 \ttime elapsed 0.11540007591247559\n",
      "size 4 \tdisorder realization 57 \ttime elapsed 0.12078595161437988\n",
      "size 4 \tdisorder realization 58 \ttime elapsed 0.12330985069274902\n",
      "size 4 \tdisorder realization 59 \ttime elapsed 0.09858942031860352\n",
      "size 4 \tdisorder realization 60 \ttime elapsed 0.10750269889831543\n",
      "size 4 \tdisorder realization 61 \ttime elapsed 0.11581921577453613\n",
      "size 4 \tdisorder realization 62 \ttime elapsed 0.09514594078063965\n",
      "size 4 \tdisorder realization 63 \ttime elapsed 0.09459853172302246\n",
      "size 4 \tdisorder realization 64 \ttime elapsed 0.1007840633392334\n",
      "size 4 \tdisorder realization 65 \ttime elapsed 0.09444189071655273\n",
      "size 4 \tdisorder realization 66 \ttime elapsed 0.10223913192749023\n",
      "size 4 \tdisorder realization 67 \ttime elapsed 0.1000053882598877\n",
      "size 4 \tdisorder realization 68 \ttime elapsed 0.10905337333679199\n",
      "size 4 \tdisorder realization 69 \ttime elapsed 0.10478949546813965\n",
      "size 4 \tdisorder realization 70 \ttime elapsed 0.10053014755249023\n",
      "size 4 \tdisorder realization 71 \ttime elapsed 0.10669970512390137\n",
      "size 4 \tdisorder realization 72 \ttime elapsed 0.10902690887451172\n",
      "size 4 \tdisorder realization 73 \ttime elapsed 0.11149168014526367\n",
      "size 4 \tdisorder realization 74 \ttime elapsed 0.1176149845123291\n",
      "size 4 \tdisorder realization 75 \ttime elapsed 0.1143178939819336\n",
      "size 4 \tdisorder realization 76 \ttime elapsed 0.11034750938415527\n",
      "size 4 \tdisorder realization 77 \ttime elapsed 0.1237950325012207\n",
      "size 4 \tdisorder realization 78 \ttime elapsed 0.10811614990234375\n",
      "size 4 \tdisorder realization 79 \ttime elapsed 0.14878511428833008\n",
      "size 4 \tdisorder realization 80 \ttime elapsed 0.10733246803283691\n",
      "size 4 \tdisorder realization 81 \ttime elapsed 0.11192822456359863\n",
      "size 4 \tdisorder realization 82 \ttime elapsed 0.12276148796081543\n",
      "size 4 \tdisorder realization 83 \ttime elapsed 0.1425487995147705\n",
      "size 4 \tdisorder realization 84 \ttime elapsed 0.17860007286071777\n",
      "size 4 \tdisorder realization 85 \ttime elapsed 0.20021843910217285\n",
      "size 4 \tdisorder realization 86 \ttime elapsed 0.19543242454528809\n",
      "size 4 \tdisorder realization 87 \ttime elapsed 0.17764639854431152\n",
      "size 4 \tdisorder realization 88 \ttime elapsed 0.16006922721862793\n",
      "size 4 \tdisorder realization 89 \ttime elapsed 0.1253039836883545\n",
      "size 4 \tdisorder realization 90 \ttime elapsed 0.10442519187927246\n",
      "size 4 \tdisorder realization 91 \ttime elapsed 0.09479141235351562\n",
      "size 4 \tdisorder realization 92 \ttime elapsed 0.13289189338684082\n",
      "size 4 \tdisorder realization 93 \ttime elapsed 0.0982513427734375\n",
      "size 4 \tdisorder realization 94 \ttime elapsed 0.09638094902038574\n",
      "size 4 \tdisorder realization 95 \ttime elapsed 0.12486624717712402\n",
      "size 4 \tdisorder realization 96 \ttime elapsed 0.09758543968200684\n",
      "size 4 \tdisorder realization 97 \ttime elapsed 0.09715127944946289\n",
      "size 4 \tdisorder realization 98 \ttime elapsed 0.1245880126953125\n",
      "size 4 \tdisorder realization 99 \ttime elapsed 0.09432649612426758\n"
     ]
    },
    {
     "name": "stderr",
     "output_type": "stream",
     "text": [
      "/home/federica/anaconda3/lib/python3.5/site-packages/numpy/core/_methods.py:112: RuntimeWarning: invalid value encountered in subtract\n",
      "  x = asanyarray(arr - arrmean)\n"
     ]
    }
   ],
   "source": [
    "clockH, clockK, clockZ = clock(dim_loc, L)\n",
    "Z_mean, Z_var, spectral_data, spectral_data_var = simulation(dim_loc, L, n_dis, idata, clockH, clockK, clockZ, time_set)\n",
    "\n",
    "with open(filename, 'wb') as f:\n",
    "        for key, value in simdict.items():\n",
    "            f.write(('\\n# '+key+' '+str(value)).encode('utf-8'))\n",
    "        for key, value in idata.items():\n",
    "            f.write(('\\n# '+key+' '+str(value)).encode('utf-8'))\n",
    "        for i in range(5):\n",
    "            f.write(('\\n# '+spec_names[i]+' '+str(spectral_data[i])+' '+str(spectral_data_var[i])).encode('utf-8'))\n",
    "        f.write('\\n# time\\tRe(Z)\\Im(Z)\\tVar(Re(Z))\\tVar(Im(Z))\\n'.encode('utf-8'))\n",
    "        np.savetxt(f, np.stack((time_set, np.real(Z_mean), np.imag(Z_mean), np.real(Z_var), np.imag(Z_var)), axis=-1))"
   ]
  },
  {
   "cell_type": "code",
   "execution_count": null,
   "metadata": {
    "collapsed": true
   },
   "outputs": [],
   "source": [
    "dataset=np.empty(0, dtype=dt)\n",
    "for L in range(2,6):\n",
    "    d=get_data('clock3_%d.txt' %L)\n",
    "    dataset=np.append(dataset, d)"
   ]
  },
  {
   "cell_type": "code",
   "execution_count": null,
   "metadata": {
    "collapsed": true
   },
   "outputs": [],
   "source": [
    "f, ax = plt.subplots(1,1,figsize=(10,6))\n",
    "\n",
    "for sim in dataset:\n",
    "    if sim['lambd']==0: ax.plot(np.log10(sim['time_set']), sim['ReZ'],label= r'$L=$%d' % L)\n",
    "\n",
    "plt.show()"
   ]
  }
 ],
 "metadata": {
  "kernelspec": {
   "display_name": "Python [conda root]",
   "language": "python",
   "name": "conda-root-py"
  },
  "language_info": {
   "codemirror_mode": {
    "name": "ipython",
    "version": 3
   },
   "file_extension": ".py",
   "mimetype": "text/x-python",
   "name": "python",
   "nbconvert_exporter": "python",
   "pygments_lexer": "ipython3",
   "version": "3.5.2"
  }
 },
 "nbformat": 4,
 "nbformat_minor": 1
}
