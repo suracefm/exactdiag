{
 "cells": [
  {
   "cell_type": "code",
   "execution_count": 1,
   "metadata": {},
   "outputs": [],
   "source": [
    "import numpy as np\n",
    "import matplotlib.pyplot as plt\n",
    "import matplotlib.patches as mpatches"
   ]
  },
  {
   "cell_type": "code",
   "execution_count": 2,
   "metadata": {},
   "outputs": [],
   "source": [
    "plt.rc('text', usetex=True)\n",
    "plt.rc('font', family='serif')"
   ]
  },
  {
   "cell_type": "code",
   "execution_count": 39,
   "metadata": {},
   "outputs": [],
   "source": [
    "def plotclock(ax, pos, phi=0, n=3, r=1, drawphi=False, name=None):\n",
    "    ax.add_artist(plt.Circle(pos, r, fill=False, edgecolor='gray', clip_on=False))\n",
    "    z=r*np.exp(1j*(phi+2*np.pi*np.arange(n)/n))\n",
    "    x=pos[0]+np.real(z)\n",
    "    y=pos[1]+np.imag(z)\n",
    "    ax.plot([pos[0]-r, pos[0]+r], [pos[1]]*2, color='gray', clip_on=False)\n",
    "    for i in range(len(z)):\n",
    "        label=r'$\\omega^%d$' %i\n",
    "        if i==0: label='1'\n",
    "        if i==1: label=r'$\\omega$'\n",
    "        ax.plot([x[i]]*2, [pos[1], y[i]], color='gray', linestyle='dashed', clip_on=False)\n",
    "        ax.text(pos[0]+np.real(z)[i]*1.3,pos[1]+np.imag(z)[i]*1.3-0.05, label, \\\n",
    "                horizontalalignment='center', verticalalignment='center', fontsize=20, color='k')\n",
    "    if drawphi:\n",
    "        ax.plot([pos[0], x[0]], [pos[1], y[0]], color='gray', clip_on=False)\n",
    "        ax.text(pos[0]+0.5, pos[1], r'$\\varphi$', fontsize=20)\n",
    "    if label:\n",
    "        ax.text(pos[0], pos[1]-r-1, name, horizontalalignment='center', verticalalignment='center', fontsize=20)\n",
    "        \n",
    "    ax.scatter(x,y, s=25, color='C0', clip_on=False)"
   ]
  },
  {
   "cell_type": "code",
   "execution_count": 44,
   "metadata": {},
   "outputs": [
    {
     "data": {
      "image/png": "[encoded data removed]",
      "text/plain": [
       "<Figure size 468x360 with 1 Axes>"
      ]
     },
     "metadata": {},
     "output_type": "display_data"
    }
   ],
   "source": [
    "fig, ax = plt.subplots(figsize=(6.5,5))\n",
    "ax.set_aspect('equal')\n",
    "\n",
    "phis=[np.pi/9, 0, np.pi/6, np.pi/3]\n",
    "draw=[True, False, False, False]\n",
    "labels=[r'$(a)\\; \\varphi=\\pi/9$', r'$(b)\\; \\varphi=0$', r'$(c)\\; \\varphi=\\pi/6$', r'$(d)\\; \\varphi=\\pi/3$']\n",
    "x=np.linspace(0,10,4)\n",
    "\n",
    "for i in range(4):\n",
    "    plotclock(ax, [x[i],0], phi=phis[i], drawphi=draw[i], name=labels[i])\n",
    "ax.set_ylim(-1.1,1.1)\n",
    "ax.set_xlim(-0.5,10.5)\n",
    "plt.axis('off')\n",
    "plt.tight_layout()\n",
    "plt.savefig('chirality.pdf', bbox_inches='tight', pad_inches=0)\n",
    "plt.show()"
   ]
  },
  {
   "cell_type": "code",
   "execution_count": null,
   "metadata": {},
   "outputs": [],
   "source": []
  },
  {
   "cell_type": "code",
   "execution_count": null,
   "metadata": {},
   "outputs": [],
   "source": []
  }
 ],
 "metadata": {
  "kernelspec": {
   "display_name": "Python [conda root]",
   "language": "python",
   "name": "conda-root-py"
  },
  "language_info": {
   "codemirror_mode": {
    "name": "ipython",
    "version": 3
   },
   "file_extension": ".py",
   "mimetype": "text/x-python",
   "name": "python",
   "nbconvert_exporter": "python",
   "pygments_lexer": "ipython3",
   "version": "3.5.5"
  }
 },
 "nbformat": 4,
 "nbformat_minor": 2
}
